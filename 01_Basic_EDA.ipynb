{
 "cells": [
  {
   "cell_type": "markdown",
   "id": "912c50ff",
   "metadata": {},
   "source": [
    "# Basic EDA notebook"
   ]
  },
  {
   "cell_type": "markdown",
   "id": "c774bd01",
   "metadata": {},
   "source": [
    "Here add the title of the notebook that you will be working on. <b> What you think the client wants<b>"
   ]
  },
  {
   "cell_type": "markdown",
   "id": "c0d0d957",
   "metadata": {
    "toc": true
   },
   "source": [
    "<h1>Table of Contents<span class=\"tocSkip\"></span></h1>\n",
    "<div class=\"toc\"><ul class=\"toc-item\"><li><span><a href=\"#Information\" data-toc-modified-id=\"Information-1\">Information</a></span><ul class=\"toc-item\"><li><span><a href=\"#Notebook-Description\" data-toc-modified-id=\"Notebook-Description-1.1\">Notebook Description</a></span></li></ul></li><li><span><a href=\"#Libraries-Used\" data-toc-modified-id=\"Libraries-Used-2\">Libraries Used</a></span></li><li><span><a href=\"#Import-Data\" data-toc-modified-id=\"Import-Data-3\">Import Data</a></span><ul class=\"toc-item\"><li><span><a href=\"#SQL-Query-(maybe)-1\" data-toc-modified-id=\"SQL-Query-(maybe)-1-3.1\">SQL Query (maybe) 1</a></span></li><li><span><a href=\"#SQL-Query-2\" data-toc-modified-id=\"SQL-Query-2-3.2\">SQL Query 2</a></span></li><li><span><a href=\"#The-best-SQL-Query\" data-toc-modified-id=\"The-best-SQL-Query-3.3\">The best SQL Query</a></span></li></ul></li><li><span><a href=\"#Actual-EDA-work\" data-toc-modified-id=\"Actual-EDA-work-4\">Actual EDA work</a></span><ul class=\"toc-item\"><li><span><a href=\"#Question-1:-Basic-Population-stats\" data-toc-modified-id=\"Question-1:-Basic-Population-stats-4.1\">Question 1: Basic Population stats</a></span><ul class=\"toc-item\"><li><span><a href=\"#Basic-Color-info\" data-toc-modified-id=\"Basic-Color-info-4.1.1\">Basic Color info</a></span></li></ul></li></ul></li></ul></div>"
   ]
  },
  {
   "cell_type": "markdown",
   "id": "8ba3a0f0",
   "metadata": {},
   "source": [
    "## Information"
   ]
  },
  {
   "cell_type": "markdown",
   "id": "2c035bc3",
   "metadata": {},
   "source": [
    "Name \n",
    "<br> Date\n",
    "<br> Email"
   ]
  },
  {
   "cell_type": "markdown",
   "id": "a7fe35b8",
   "metadata": {},
   "source": [
    "### Notebook Description"
   ]
  },
  {
   "cell_type": "markdown",
   "id": "b85fd5d6",
   "metadata": {},
   "source": [
    "<b>Rephrase the goal of your client!<b> Turn their words to data science speak. \n",
    "\n",
    "This is the text where you describe what are the main goals of your notebook. If you are conducting an EDA run, then make sure that you include all of the main questions you hope to assay to the data.\n",
    "\n",
    "1) Example Question 1 (What are the basic population statistics of the notes):\n",
    "    1) color stats\n",
    "        1) why I need to know color stats.\n",
    "    2) How many blank text is there?\n",
    "    3) How many notes all together\n",
    "    4) How many days is the average SID and how is this time period distributed\n",
    "        1) Before any real modeling occurs, we need to understand what words appear in red/yellow/green notes and how many of these notes are we assaying. \n",
    "    5) Bad companies to work with (which client fail the most?)\n",
    "    6) How many clients get different SIDs?\n",
    "2) Question two: (How often do green notes turn yellow/red?)\n",
    "    2) How many SIDs always stay green?\n",
    "        1) I need to know this?\n",
    "    3) How long do yellow notes stay red/yellow?\n",
    "        1) Why this is important\n",
    "3) Basic Modeling Which words predict bad notes?\n",
    "4) Which words predict green notes turning other colors?\n",
    "\n",
    "    \n",
    "<br> ..."
   ]
  },
  {
   "cell_type": "markdown",
   "id": "2c49cfa3",
   "metadata": {},
   "source": [
    "## Libraries Used"
   ]
  },
  {
   "cell_type": "markdown",
   "id": "560f58f8",
   "metadata": {},
   "source": [
    "Here you want to include all of the notebooks (and versions if necessary) that you will use throughout the notebook. Try to make sure that you use each of the libraries added."
   ]
  },
  {
   "cell_type": "code",
   "execution_count": 1,
   "id": "7129d264",
   "metadata": {},
   "outputs": [],
   "source": [
    "# Comment in useful reasons why you needed to include this \n",
    "\n",
    "# Basic Data Science\n",
    "import pandas as pd\n",
    "import numpy as np\n",
    "import matplotlib.pyplot as plt"
   ]
  },
  {
   "cell_type": "markdown",
   "id": "ba43c2ca",
   "metadata": {},
   "source": [
    "## Import Data"
   ]
  },
  {
   "cell_type": "markdown",
   "id": "38c47bbe",
   "metadata": {},
   "source": [
    "Here include a brief description of the project data and who provided it to you. Maybe a nice place to include a diagram of the dataset. Make sure that you restate what you really want from the data *before* you actually muck around in the data. Also a nice place to take that original image from the client and outline the parts used."
   ]
  },
  {
   "cell_type": "markdown",
   "id": "9b219214",
   "metadata": {},
   "source": [
    "### SQL Query (maybe) 1"
   ]
  },
  {
   "cell_type": "markdown",
   "id": "e2df590c",
   "metadata": {},
   "source": [
    "Describe why used"
   ]
  },
  {
   "cell_type": "markdown",
   "id": "98e322e9",
   "metadata": {},
   "source": [
    "### SQL Query 2"
   ]
  },
  {
   "cell_type": "markdown",
   "id": "d9ec7005",
   "metadata": {},
   "source": [
    "### The best SQL Query"
   ]
  },
  {
   "cell_type": "markdown",
   "id": "c1e3144c",
   "metadata": {},
   "source": [
    "Why did you decide to aggregate the data this way? How does this call help the most? Usually the client understands this part the best. "
   ]
  },
  {
   "cell_type": "markdown",
   "id": "2168c0ab",
   "metadata": {},
   "source": [
    "## Actual EDA work"
   ]
  },
  {
   "cell_type": "markdown",
   "id": "f6f279f8",
   "metadata": {},
   "source": [
    "### Question 1: Basic Population stats"
   ]
  },
  {
   "cell_type": "markdown",
   "id": "025158f0",
   "metadata": {},
   "source": [
    "Make to rephrase the question that you hope to answer. When will this be perfect."
   ]
  },
  {
   "cell_type": "markdown",
   "id": "a1f08ca3",
   "metadata": {},
   "source": [
    "#### Basic Color info\n"
   ]
  },
  {
   "cell_type": "markdown",
   "id": "907639cc",
   "metadata": {},
   "source": [
    "plot something sexy."
   ]
  },
  {
   "cell_type": "code",
   "execution_count": null,
   "id": "4c46772b",
   "metadata": {},
   "outputs": [],
   "source": []
  }
 ],
 "metadata": {
  "kernelspec": {
   "display_name": "Python 3 (ipykernel)",
   "language": "python",
   "name": "python3"
  },
  "language_info": {
   "codemirror_mode": {
    "name": "ipython",
    "version": 3
   },
   "file_extension": ".py",
   "mimetype": "text/x-python",
   "name": "python",
   "nbconvert_exporter": "python",
   "pygments_lexer": "ipython3",
   "version": "3.9.16"
  },
  "toc": {
   "base_numbering": 1,
   "nav_menu": {},
   "number_sections": false,
   "sideBar": true,
   "skip_h1_title": true,
   "title_cell": "Table of Contents",
   "title_sidebar": "Contents",
   "toc_cell": true,
   "toc_position": {},
   "toc_section_display": true,
   "toc_window_display": true
  }
 },
 "nbformat": 4,
 "nbformat_minor": 5
}
