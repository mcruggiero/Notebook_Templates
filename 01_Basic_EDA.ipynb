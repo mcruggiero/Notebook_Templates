{
 "cells": [
  {
   "cell_type": "markdown",
   "id": "59b2f704",
   "metadata": {},
   "source": [
    "# Basic EDA notebook"
   ]
  },
  {
   "cell_type": "markdown",
   "id": "27021c56",
   "metadata": {},
   "source": [
    "Here add the title of the notebook that you will be working on. <b> What you think the client wants<b>"
   ]
  },
  {
   "cell_type": "markdown",
   "id": "9c194f70",
   "metadata": {
    "toc": true
   },
   "source": [
    "<h1>Table of Contents<span class=\"tocSkip\"></span></h1>\n",
    "<div class=\"toc\"><ul class=\"toc-item\"><li><span><a href=\"#Information\" data-toc-modified-id=\"Information-1\">Information</a></span><ul class=\"toc-item\"><li><span><a href=\"#Notebook-Description\" data-toc-modified-id=\"Notebook-Description-1.1\">Notebook Description</a></span></li></ul></li><li><span><a href=\"#Libraries-Used\" data-toc-modified-id=\"Libraries-Used-2\">Libraries Used</a></span></li><li><span><a href=\"#Import-Data\" data-toc-modified-id=\"Import-Data-3\">Import Data</a></span><ul class=\"toc-item\"><li><span><a href=\"#SQL-Query-(maybe)-1\" data-toc-modified-id=\"SQL-Query-(maybe)-1-3.1\">SQL Query (maybe) 1</a></span></li><li><span><a href=\"#SQL-Query-2\" data-toc-modified-id=\"SQL-Query-2-3.2\">SQL Query 2</a></span></li><li><span><a href=\"#The-best-SQL-Query\" data-toc-modified-id=\"The-best-SQL-Query-3.3\">The best SQL Query</a></span></li></ul></li><li><span><a href=\"#Actual-EDA-work\" data-toc-modified-id=\"Actual-EDA-work-4\">Actual EDA work</a></span><ul class=\"toc-item\"><li><span><a href=\"#Question-1:-Basic-Population-stats\" data-toc-modified-id=\"Question-1:-Basic-Population-stats-4.1\">Question 1: Basic Population stats</a></span><ul class=\"toc-item\"><li><span><a href=\"#Basic-Color-info\" data-toc-modified-id=\"Basic-Color-info-4.1.1\">Basic Color info</a></span></li></ul></li><li><span><a href=\"#Grid-search-stuff\" data-toc-modified-id=\"Grid-search-stuff-4.2\">Grid search stuff</a></span></li></ul></li><li><span><a href=\"#Observations\" data-toc-modified-id=\"Observations-5\">Observations</a></span></li></ul></div>"
   ]
  },
  {
   "cell_type": "markdown",
   "id": "3f935412",
   "metadata": {},
   "source": [
    "## Information"
   ]
  },
  {
   "cell_type": "markdown",
   "id": "1f275c6e",
   "metadata": {},
   "source": [
    "Name \n",
    "<br> Date\n",
    "<br> Email"
   ]
  },
  {
   "cell_type": "markdown",
   "id": "73759795",
   "metadata": {},
   "source": [
    "### Notebook Description"
   ]
  },
  {
   "cell_type": "markdown",
   "id": "8513623a",
   "metadata": {},
   "source": [
    "<b>Rephrase the goal of your client!<b> Turn their words to data science speak. \n",
    "\n",
    "This is the text where you describe what are the main goals of your notebook. If you are conducting an EDA run, then make sure that you include all of the main questions you hope to assay to the data.\n",
    "\n",
    "1) Example Question 1 (What are the basic population statistics of the notes):\n",
    "    1) color stats\n",
    "        1) why I need to know color stats.\n",
    "    2) How many blank text is there?\n",
    "    3) How many notes all together\n",
    "    4) How many days is the average SID and how is this time period distributed\n",
    "        1) Before any real modeling occurs, we need to understand what words appear in red/yellow/green notes and how many of these notes are we assaying. \n",
    "    5) Bad companies to work with (which client fail the most?)\n",
    "    6) How many clients get different SIDs?\n",
    "2) Question two: (How often do green notes turn yellow/red?)\n",
    "    2) How many SIDs always stay green?\n",
    "        1) I need to know this?\n",
    "    3) How long do yellow notes stay red/yellow?\n",
    "        1) Why this is important\n",
    "3) Basic Modeling Which words predict bad notes?\n",
    "4) Which words predict green notes turning other colors?\n",
    "\n",
    "    \n",
    "<br> ..."
   ]
  },
  {
   "cell_type": "markdown",
   "id": "a2d88be7",
   "metadata": {},
   "source": [
    "## Libraries Used"
   ]
  },
  {
   "cell_type": "markdown",
   "id": "d7009d71",
   "metadata": {},
   "source": [
    "Here you want to include all of the notebooks (and versions if necessary) that you will use throughout the notebook. Try to make sure that you use each of the libraries added."
   ]
  },
  {
   "cell_type": "code",
   "execution_count": 1,
   "id": "62e754ff",
   "metadata": {},
   "outputs": [],
   "source": [
    "# Comment in useful reasons why you needed to include this \n",
    "\n",
    "# Basic Data Science\n",
    "import pandas as pd\n",
    "import numpy as np\n",
    "import matplotlib.pyplot as plt"
   ]
  },
  {
   "cell_type": "markdown",
   "id": "d3ee3338",
   "metadata": {},
   "source": [
    "## Import Data"
   ]
  },
  {
   "cell_type": "markdown",
   "id": "d78dcebd",
   "metadata": {},
   "source": [
    "Here include a brief description of the project data and who provided it to you. Maybe a nice place to include a diagram of the dataset. Make sure that you restate what you really want from the data *before* you actually muck around in the data. Also a nice place to take that original image from the client and outline the parts used."
   ]
  },
  {
   "cell_type": "markdown",
   "id": "d7d77490",
   "metadata": {},
   "source": [
    "### SQL Query (maybe) 1"
   ]
  },
  {
   "cell_type": "markdown",
   "id": "5da196bc",
   "metadata": {},
   "source": [
    "Describe why used"
   ]
  },
  {
   "cell_type": "markdown",
   "id": "d056eede",
   "metadata": {},
   "source": [
    "### SQL Query 2"
   ]
  },
  {
   "cell_type": "markdown",
   "id": "644231b7",
   "metadata": {},
   "source": [
    "### The best SQL Query"
   ]
  },
  {
   "cell_type": "markdown",
   "id": "c02dfdaa",
   "metadata": {},
   "source": [
    "Why did you decide to aggregate the data this way? How does this call help the most? Usually the client understands this part the best. "
   ]
  },
  {
   "cell_type": "markdown",
   "id": "610a6398",
   "metadata": {},
   "source": [
    "## Actual EDA work"
   ]
  },
  {
   "cell_type": "markdown",
   "id": "38b9d090",
   "metadata": {},
   "source": [
    "### Question 1: Basic Population stats"
   ]
  },
  {
   "cell_type": "markdown",
   "id": "cf8cce4b",
   "metadata": {},
   "source": [
    "Make to rephrase the question that you hope to answer. When will this be perfect."
   ]
  },
  {
   "cell_type": "markdown",
   "id": "ead377ca",
   "metadata": {},
   "source": [
    "#### Basic Color info\n"
   ]
  },
  {
   "cell_type": "markdown",
   "id": "b70b0de7",
   "metadata": {},
   "source": [
    "plot something sexy."
   ]
  },
  {
   "cell_type": "markdown",
   "id": "c487e4fd",
   "metadata": {},
   "source": [
    "### Grid search stuff"
   ]
  },
  {
   "cell_type": "markdown",
   "id": "d6478c64",
   "metadata": {},
   "source": [
    "Get me a confusion matrix. "
   ]
  },
  {
   "cell_type": "markdown",
   "id": "034eb3bd",
   "metadata": {},
   "source": [
    "## Observations"
   ]
  },
  {
   "cell_type": "markdown",
   "id": "dbdb96e2",
   "metadata": {},
   "source": [
    "Make sure to include real examples of points of failure in confusion matrix."
   ]
  },
  {
   "cell_type": "code",
   "execution_count": null,
   "id": "6be63e0f",
   "metadata": {},
   "outputs": [],
   "source": []
  }
 ],
 "metadata": {
  "kernelspec": {
   "display_name": "Python 3 (ipykernel)",
   "language": "python",
   "name": "python3"
  },
  "language_info": {
   "codemirror_mode": {
    "name": "ipython",
    "version": 3
   },
   "file_extension": ".py",
   "mimetype": "text/x-python",
   "name": "python",
   "nbconvert_exporter": "python",
   "pygments_lexer": "ipython3",
   "version": "3.9.16"
  },
  "toc": {
   "base_numbering": 1,
   "nav_menu": {},
   "number_sections": false,
   "sideBar": true,
   "skip_h1_title": true,
   "title_cell": "Table of Contents",
   "title_sidebar": "Contents",
   "toc_cell": true,
   "toc_position": {},
   "toc_section_display": true,
   "toc_window_display": true
  }
 },
 "nbformat": 4,
 "nbformat_minor": 5
}
