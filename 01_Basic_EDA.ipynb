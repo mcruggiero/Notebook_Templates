{
 "cells": [
  {
   "cell_type": "markdown",
   "id": "75641d60",
   "metadata": {},
   "source": [
    "# Basic EDA notebook"
   ]
  },
  {
   "cell_type": "markdown",
   "id": "6f5ce857",
   "metadata": {},
   "source": [
    "Here add the title of the notebook that you will be working on."
   ]
  },
  {
   "cell_type": "markdown",
   "id": "407cb42a",
   "metadata": {
    "toc": true
   },
   "source": [
    "<h1>Table of Contents<span class=\"tocSkip\"></span></h1>\n",
    "<div class=\"toc\"><ul class=\"toc-item\"><li><span><a href=\"#Information\" data-toc-modified-id=\"Information-1\">Information</a></span><ul class=\"toc-item\"><li><span><a href=\"#Notebook-Description\" data-toc-modified-id=\"Notebook-Description-1.1\">Notebook Description</a></span></li></ul></li><li><span><a href=\"#Libraries-Used\" data-toc-modified-id=\"Libraries-Used-2\">Libraries Used</a></span></li><li><span><a href=\"#Import-Data\" data-toc-modified-id=\"Import-Data-3\">Import Data</a></span><ul class=\"toc-item\"><li><span><a href=\"#SQL-Query-(maybe)-1\" data-toc-modified-id=\"SQL-Query-(maybe)-1-3.1\">SQL Query (maybe) 1</a></span></li><li><span><a href=\"#SQL-Query-2\" data-toc-modified-id=\"SQL-Query-2-3.2\">SQL Query 2</a></span></li><li><span><a href=\"#The-best-SQL-Query\" data-toc-modified-id=\"The-best-SQL-Query-3.3\">The best SQL Query</a></span></li></ul></li><li><span><a href=\"#Actual-EDA-work\" data-toc-modified-id=\"Actual-EDA-work-4\">Actual EDA work</a></span><ul class=\"toc-item\"><li><span><a href=\"#Basic-Population-stats\" data-toc-modified-id=\"Basic-Population-stats-4.1\">Basic Population stats</a></span></li></ul></li></ul></div>"
   ]
  },
  {
   "cell_type": "markdown",
   "id": "6ea089e4",
   "metadata": {},
   "source": [
    "## Information"
   ]
  },
  {
   "cell_type": "markdown",
   "id": "7fbe9f92",
   "metadata": {},
   "source": [
    "Name \n",
    "<br> Date\n",
    "<br> Email"
   ]
  },
  {
   "cell_type": "markdown",
   "id": "c4e7e6b8",
   "metadata": {},
   "source": [
    "### Notebook Description"
   ]
  },
  {
   "cell_type": "markdown",
   "id": "fab17e61",
   "metadata": {},
   "source": [
    "<b>What is the goal of your client!<b>\n",
    "\n",
    "This is the text where you describe what are the main goals of your notebook. If you are conducting an EDA run, then make sure that you include all of the main questions you hope to assay to the data.\n",
    "\n",
    "1) Question one:\n",
    "    1) Describe the question\n",
    "2) Question two:\n",
    "    2) Describe this question \n",
    "    \n",
    "<br> ..."
   ]
  },
  {
   "cell_type": "markdown",
   "id": "997cee9c",
   "metadata": {},
   "source": [
    "## Libraries Used"
   ]
  },
  {
   "cell_type": "markdown",
   "id": "1c92c423",
   "metadata": {},
   "source": [
    "Here you want to include all of the notebooks (and versions if necessary) that you will use throughout the notebook. Try to make sure that you use each of the libraries added."
   ]
  },
  {
   "cell_type": "code",
   "execution_count": 1,
   "id": "22757af5",
   "metadata": {},
   "outputs": [],
   "source": [
    "# Comment in useful reasons why you needed to include this \n",
    "\n",
    "# Basic Data Science\n",
    "import pandas as pd\n",
    "import numpy as np\n",
    "import matplotlib.pyplot as plt"
   ]
  },
  {
   "cell_type": "markdown",
   "id": "2de08914",
   "metadata": {},
   "source": [
    "## Import Data"
   ]
  },
  {
   "cell_type": "markdown",
   "id": "0a07a0f1",
   "metadata": {},
   "source": [
    "Here include a brief description of the project data and who provided it to you. Maybe a nice place to include a diagram of the dataset. Make sure that you restate what you really want from the data *before* you actually muck around in the data. Also a nice place to take that original image from the client and outline the parts used."
   ]
  },
  {
   "cell_type": "markdown",
   "id": "a9b5ab48",
   "metadata": {},
   "source": [
    "### SQL Query (maybe) 1"
   ]
  },
  {
   "cell_type": "markdown",
   "id": "e531c5ae",
   "metadata": {},
   "source": [
    "### SQL Query 2"
   ]
  },
  {
   "cell_type": "markdown",
   "id": "1e3817ab",
   "metadata": {},
   "source": [
    "### The best SQL Query"
   ]
  },
  {
   "cell_type": "markdown",
   "id": "a67bb8b6",
   "metadata": {},
   "source": [
    "Why did you decide to aggregate the data this way? How does this call help the most?"
   ]
  },
  {
   "cell_type": "markdown",
   "id": "338202ea",
   "metadata": {},
   "source": [
    "## Actual EDA work"
   ]
  },
  {
   "cell_type": "markdown",
   "id": "00e3dd1c",
   "metadata": {},
   "source": [
    "### Basic Population stats"
   ]
  },
  {
   "cell_type": "code",
   "execution_count": null,
   "id": "de29268e",
   "metadata": {},
   "outputs": [],
   "source": []
  }
 ],
 "metadata": {
  "kernelspec": {
   "display_name": "Python 3 (ipykernel)",
   "language": "python",
   "name": "python3"
  },
  "language_info": {
   "codemirror_mode": {
    "name": "ipython",
    "version": 3
   },
   "file_extension": ".py",
   "mimetype": "text/x-python",
   "name": "python",
   "nbconvert_exporter": "python",
   "pygments_lexer": "ipython3",
   "version": "3.9.16"
  },
  "toc": {
   "base_numbering": 1,
   "nav_menu": {},
   "number_sections": false,
   "sideBar": true,
   "skip_h1_title": true,
   "title_cell": "Table of Contents",
   "title_sidebar": "Contents",
   "toc_cell": true,
   "toc_position": {},
   "toc_section_display": true,
   "toc_window_display": false
  }
 },
 "nbformat": 4,
 "nbformat_minor": 5
}
